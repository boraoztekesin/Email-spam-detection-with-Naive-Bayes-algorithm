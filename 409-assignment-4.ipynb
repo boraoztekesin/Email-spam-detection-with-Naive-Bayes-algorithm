{
 "cells": [
  {
   "cell_type": "markdown",
   "id": "4a6d3ff3",
   "metadata": {
    "id": "4a6d3ff3"
   },
   "source": [
    "## BBM 409 - Programming Assignment 4\n",
    "\n",
    "* You can add as many cells as you want in-between each question.\n",
    "* Please add comments to your code to explain your work.  \n",
    "* Please add Markdown cells to answer the (non-coding) questions in the homework text. You can, however, refer to the outputs of code cells without adding them as images to the Markdown cell unless you are requested to do otherwise.\n",
    "* Please be careful about the order of runs of cells. It is likely that you will be running the cells in different orders, however, they will be evaluated in the order they appear. Hence, please try running the cells in this order before submission to make sure they work.    \n",
    "* Please refer to the homework text for any implementation detail. Though you are somewhat expected to abide by the comments in the below cells, they are mainly just provided for guidance. That is, as long as you are not completely off this structure and your work pattern is understandable and traceable, it is fine. For instance, you do not have to implement a particular function within a cell just because the comment directs you to do so.\n",
    "* This document is also your report. Show your work."
   ]
  },
  {
   "cell_type": "markdown",
   "id": "59f7facb",
   "metadata": {
    "id": "59f7facb"
   },
   "source": [
    "###  Insert personal information\n",
    "Cavit Bora Öztekeşin\n",
    "2200356855"
   ]
  },
  {
   "cell_type": "markdown",
   "id": "8f5e4faf",
   "metadata": {
    "id": "8f5e4faf"
   },
   "source": [
    "### 1. Introduction\n",
    "The goal of this assignment is to implement a Naive Bayes classifier to categorize emails as spam or ham based on their textual content. The Naive Bayes algorithm, known for its simplicity and efficiency in text classification tasks, will be used to predict whether an email is spam or not. The dataset provided contains emails labeled as either spam (1) or ham (0).\n",
    "Key Concepts\n",
    "Naive Bayes Classifier: A probabilistic classifier based on Bayes' theorem with the assumption of feature independence.\n",
    "Laplace Smoothing: A technique to handle the issue of zero probabilities in Naive Bayes by adding a small constant to the probability estimates.\n",
    "Dataset Description\n",
    "The dataset includes emails with their text content and corresponding labels (spam or ham). Preprocessing steps such as tokenization, stopword removal, and frequency calculation will be necessary to prepare the data for classification."
   ]
  },
  {
   "cell_type": "markdown",
   "id": "NoBnqawf6aj3",
   "metadata": {
    "id": "NoBnqawf6aj3"
   },
   "source": [
    "### 2. Importing Necessary Libraries and Reading the Data"
   ]
  },
  {
   "cell_type": "code",
   "execution_count": 1,
   "id": "b62b49c5",
   "metadata": {
    "id": "b62b49c5",
    "scrolled": true
   },
   "outputs": [
    {
     "data": {
      "text/html": [
       "<div>\n",
       "<style scoped>\n",
       "    .dataframe tbody tr th:only-of-type {\n",
       "        vertical-align: middle;\n",
       "    }\n",
       "\n",
       "    .dataframe tbody tr th {\n",
       "        vertical-align: top;\n",
       "    }\n",
       "\n",
       "    .dataframe thead th {\n",
       "        text-align: right;\n",
       "    }\n",
       "</style>\n",
       "<table border=\"1\" class=\"dataframe\">\n",
       "  <thead>\n",
       "    <tr style=\"text-align: right;\">\n",
       "      <th></th>\n",
       "      <th>text</th>\n",
       "      <th>spam</th>\n",
       "    </tr>\n",
       "  </thead>\n",
       "  <tbody>\n",
       "    <tr>\n",
       "      <th>0</th>\n",
       "      <td>Subject: naturally irresistible your corporate...</td>\n",
       "      <td>1</td>\n",
       "    </tr>\n",
       "    <tr>\n",
       "      <th>1</th>\n",
       "      <td>Subject: the stock trading gunslinger  fanny i...</td>\n",
       "      <td>1</td>\n",
       "    </tr>\n",
       "    <tr>\n",
       "      <th>2</th>\n",
       "      <td>Subject: unbelievable new homes made easy  im ...</td>\n",
       "      <td>1</td>\n",
       "    </tr>\n",
       "    <tr>\n",
       "      <th>3</th>\n",
       "      <td>Subject: 4 color printing special  request add...</td>\n",
       "      <td>1</td>\n",
       "    </tr>\n",
       "    <tr>\n",
       "      <th>4</th>\n",
       "      <td>Subject: do not have money , get software cds ...</td>\n",
       "      <td>1</td>\n",
       "    </tr>\n",
       "  </tbody>\n",
       "</table>\n",
       "</div>"
      ],
      "text/plain": [
       "                                                text  spam\n",
       "0  Subject: naturally irresistible your corporate...     1\n",
       "1  Subject: the stock trading gunslinger  fanny i...     1\n",
       "2  Subject: unbelievable new homes made easy  im ...     1\n",
       "3  Subject: 4 color printing special  request add...     1\n",
       "4  Subject: do not have money , get software cds ...     1"
      ]
     },
     "execution_count": 1,
     "metadata": {},
     "output_type": "execute_result"
    }
   ],
   "source": [
    "## Import necessary libraries\n",
    "import pandas as pd\n",
    "import numpy as np\n",
    "import matplotlib.pyplot as plt\n",
    "import seaborn as sns\n",
    "from sklearn.model_selection import train_test_split\n",
    "from sklearn.metrics import accuracy_score, f1_score, recall_score, precision_score\n",
    "from sklearn.feature_extraction.text import CountVectorizer\n",
    "from collections import defaultdict\n",
    "import math\n",
    "## Read csv data\n",
    "data = pd.read_csv('C:\\\\Users\\\\Bora\\\\Downloads\\\\emails.csv\\\\emails.csv')\n",
    "data.head()"
   ]
  },
  {
   "cell_type": "markdown",
   "id": "_AGeFB1k6FA5",
   "metadata": {
    "id": "_AGeFB1k6FA5"
   },
   "source": [
    "### 3. Data Understanding and Preperation"
   ]
  },
  {
   "cell_type": "markdown",
   "id": "ded0488b",
   "metadata": {
    "id": "ded0488b"
   },
   "source": [
    "* Examine the E-Mail Spam Dataset to understand its structure and contents.\n",
    "* Using the histograms show the distribution of dataset into the spam and ham\n",
    "emails. (or you can use pie chart)\n",
    "* Assess the feasibility of current dataset to predict spam or ham based on the\n",
    "words present in the email text.\n",
    "* To do so, calculate the frequencies of the words in spam and ham emails. You\n",
    "can create a frequency dictionary to effectively examine the words and use\n",
    "them later for Naive Bayes classification.\n",
    "* Based on the word frequencies, consider leaving out some unique words that\n",
    "appear less frequently than a specific frequency or appear more frequently than\n",
    "a specific frequency since they might not be useful. To decide the threshold,\n",
    "you might need to plot the word frequencies and see in which range of the\n",
    "frequencies most words are found. Explain why some words might not be\n",
    "useful for prediction and show your reasoning.\n",
    "* Provide three examples of keywords that may be indicative of spam or ham,\n",
    "along with their respective frequencies in spam and ham emails. To decide\n",
    "this you can use a scatter plot to visualize the word frequencies in logarithmic\n",
    "scale. You can also choose another visualization process that might help you\n",
    "to decide. Explain and show your reasoning."
   ]
  },
  {
   "cell_type": "code",
   "execution_count": 2,
   "id": "85d400d4",
   "metadata": {
    "id": "85d400d4"
   },
   "outputs": [
    {
     "name": "stdout",
     "output_type": "stream",
     "text": [
      "<class 'pandas.core.frame.DataFrame'>\n",
      "RangeIndex: 5728 entries, 0 to 5727\n",
      "Data columns (total 2 columns):\n",
      " #   Column  Non-Null Count  Dtype \n",
      "---  ------  --------------  ----- \n",
      " 0   text    5728 non-null   object\n",
      " 1   spam    5728 non-null   int64 \n",
      "dtypes: int64(1), object(1)\n",
      "memory usage: 89.6+ KB\n"
     ]
    },
    {
     "data": {
      "image/png": "[encoded data removed]",
      "text/plain": [
       "<Figure size 640x480 with 1 Axes>"
      ]
     },
     "metadata": {},
     "output_type": "display_data"
    }
   ],
   "source": [
    "# Display basic information about the dataset\n",
    "data.info()\n",
    "\n",
    "# Check the distribution of spam and ham emails\n",
    "spam_count = data['spam'].value_counts()\n",
    "spam_count.plot(kind='pie', autopct='%1.1f%%', labels=['Ham', 'Spam'])\n",
    "plt.title('Distribution of Spam and Ham Emails')\n",
    "plt.ylabel('')\n",
    "plt.show()"
   ]
  },
  {
   "cell_type": "code",
   "execution_count": 3,
   "id": "06920388",
   "metadata": {},
   "outputs": [
    {
     "data": {
      "image/png": "[encoded data removed]",
      "text/plain": [
       "<Figure size 1200x600 with 1 Axes>"
      ]
     },
     "metadata": {},
     "output_type": "display_data"
    }
   ],
   "source": [
    "# Function to preprocess text data\n",
    "def preprocess_text(text):\n",
    "    tokens = text.lower().split()\n",
    "    return tokens\n",
    "\n",
    "# Calculate word frequencies for spam and ham emails\n",
    "spam_words = defaultdict(int)\n",
    "ham_words = defaultdict(int)\n",
    "\n",
    "for index, row in data.iterrows():\n",
    "    words = preprocess_text(row['text'])\n",
    "    if row['spam'] == 1:  # Spam\n",
    "        for word in words:\n",
    "            spam_words[word] += 1\n",
    "    else:  # Ham\n",
    "        for word in words:\n",
    "            ham_words[word] += 1\n",
    "\n",
    "# Convert dictionaries to DataFrames for visualization\n",
    "spam_df = pd.DataFrame(list(spam_words.items()), columns=['word', 'frequency']).sort_values(by='frequency', ascending=False)\n",
    "ham_df = pd.DataFrame(list(ham_words.items()), columns=['word', 'frequency']).sort_values(by='frequency', ascending=False)\n",
    "\n",
    "# Plot word frequencies\n",
    "plt.figure(figsize=(12, 6))\n",
    "plt.loglog(spam_df['frequency'].values, label='Spam Words', color='red')\n",
    "plt.loglog(ham_df['frequency'].values, label='Ham Words', color='blue')\n",
    "plt.xlabel('Word Rank')\n",
    "plt.ylabel('Frequency')\n",
    "plt.title('Word Frequencies in Spam and Ham Emails')\n",
    "plt.legend()\n",
    "plt.show()\n"
   ]
  },
  {
   "cell_type": "code",
   "execution_count": 4,
   "id": "bb899a76",
   "metadata": {},
   "outputs": [
    {
     "name": "stdout",
     "output_type": "stream",
     "text": [
      "Indicative Spam Keywords:\n",
      "     word  frequency\n",
      "38     .      19839\n",
      "137    _      13556\n",
      "28     ,      11514\n",
      "Indicative Ham Keywords:\n",
      "    word  frequency\n",
      "17    -      96708\n",
      "29    .      72655\n",
      "3     ,      49629\n"
     ]
    }
   ],
   "source": [
    "# Identify keywords indicative of spam or ham\n",
    "keywords_spam = spam_df.head(3)\n",
    "keywords_ham = ham_df.head(3)\n",
    "\n",
    "print(\"Indicative Spam Keywords:\\n\", keywords_spam)\n",
    "print(\"Indicative Ham Keywords:\\n\", keywords_ham)\n"
   ]
  },
  {
   "cell_type": "markdown",
   "id": "0g05fTF-O72H",
   "metadata": {
    "id": "0g05fTF-O72H"
   },
   "source": [
    "### 4. Data Representation and Naive Bayes Implementation"
   ]
  },
  {
   "cell_type": "markdown",
   "id": "246a08a2",
   "metadata": {
    "id": "246a08a2"
   },
   "source": [
    "* Split your dataset into training and test sets (80-20 split ratio).\n",
    "* Prepare your training and test data to align with the requirements of your\n",
    "Naive Bayes implementation. Remember, the training data will provide the\n",
    "necessary insights to predict whether the test data is spam or ham.\n",
    "* Represent the data using the Bag of Words (BoW) model with two methods:\n",
    "Unigram and Bigram. You need to compare the usage of these two methods.\n",
    "* Create Unigrams and Bigrams then implement your own Naive Bayes classifier,\n",
    "considering:\n",
    "\n",
    "  1.   Log probabilities to prevent numerical underflow.\n",
    "  2.   Dealing with words not encountered during training (possibly using Laplace\n",
    "  smoothing).\n",
    "  3. Using a dictionary for BoW representation (either implementing your own\n",
    "  method or utilizing CountVectorizer from scikit-learn)"
   ]
  },
  {
   "cell_type": "markdown",
   "id": "nr8JJ9lb7Q_H",
   "metadata": {
    "id": "nr8JJ9lb7Q_H"
   },
   "source": [
    "#### Splitting the Data"
   ]
  },
  {
   "cell_type": "code",
   "execution_count": 5,
   "id": "fZmfIN4wWYip",
   "metadata": {
    "id": "fZmfIN4wWYip"
   },
   "outputs": [],
   "source": [
    "# Split the dataset into training and test sets (80-20 split ratio)\n",
    "X_train, X_test, y_train, y_test = train_test_split(data['text'], data['spam'], test_size=0.2, random_state=42)\n"
   ]
  },
  {
   "cell_type": "markdown",
   "id": "-nASDnRjz8kT",
   "metadata": {
    "id": "-nASDnRjz8kT"
   },
   "source": [
    "#### Training with Unigram"
   ]
  },
  {
   "cell_type": "code",
   "execution_count": 6,
   "id": "9c847b35",
   "metadata": {
    "id": "9c847b35"
   },
   "outputs": [],
   "source": [
    "## Implement and define Naive Bayes probabilities\n",
    "## Implement the Naive Bayes classifier, leveraging the training set\n",
    "# Unigram Representation\n",
    "vectorizer = CountVectorizer(ngram_range=(1, 1), stop_words='english')\n",
    "X_train_unigram = vectorizer.fit_transform(X_train)\n",
    "X_test_unigram = vectorizer.transform(X_test)\n",
    "\n",
    "# Bigram Representation\n",
    "vectorizer_bigram = CountVectorizer(ngram_range=(1, 2), stop_words='english')\n",
    "X_train_bigram = vectorizer_bigram.fit_transform(X_train)\n",
    "X_test_bigram = vectorizer_bigram.transform(X_test)\n"
   ]
  },
  {
   "cell_type": "markdown",
   "id": "dM6X55to0Fuz",
   "metadata": {
    "id": "dM6X55to0Fuz"
   },
   "source": [
    "#### Testing with Unigram"
   ]
  },
  {
   "cell_type": "code",
   "execution_count": 7,
   "id": "878e68dd",
   "metadata": {
    "id": "878e68dd"
   },
   "outputs": [
    {
     "name": "stdout",
     "output_type": "stream",
     "text": [
      "Accuracy: 0.9887\n",
      "Precision: 0.9663\n",
      "Recall: 0.9897\n",
      "F1 Score: 0.9779\n"
     ]
    }
   ],
   "source": [
    "class NaiveBayesClassifier:\n",
    "    def __init__(self):\n",
    "        self.spam_word_counts = defaultdict(int)\n",
    "        self.ham_word_counts = defaultdict(int)\n",
    "        self.spam_total = 0\n",
    "        self.ham_total = 0\n",
    "        self.spam_prior = 0\n",
    "        self.ham_prior = 0\n",
    "        self.vocab = set()\n",
    "    \n",
    "    def fit(self, X, y):\n",
    "        spam_count = sum(y)\n",
    "        ham_count = len(y) - spam_count\n",
    "        self.spam_prior = spam_count / len(y)\n",
    "        self.ham_prior = ham_count / len(y)\n",
    "        \n",
    "        for text, label in zip(X, y):\n",
    "            words = preprocess_text(text)\n",
    "            if label == 1:\n",
    "                for word in words:\n",
    "                    self.spam_word_counts[word] += 1\n",
    "                    self.spam_total += 1\n",
    "                    self.vocab.add(word)\n",
    "            else:\n",
    "                for word in words:\n",
    "                    self.ham_word_counts[word] += 1\n",
    "                    self.ham_total += 1\n",
    "                    self.vocab.add(word)\n",
    "        \n",
    "        self.vocab_size = len(self.vocab)\n",
    "    \n",
    "    def predict(self, X):\n",
    "        predictions = []\n",
    "        for text in X:\n",
    "            words = preprocess_text(text)\n",
    "            spam_likelihood = math.log(self.spam_prior)\n",
    "            ham_likelihood = math.log(self.ham_prior)\n",
    "            \n",
    "            for word in words:\n",
    "                spam_word_prob = (self.spam_word_counts[word] + 1) / (self.spam_total + self.vocab_size)\n",
    "                ham_word_prob = (self.ham_word_counts[word] + 1) / (self.ham_total + self.vocab_size)\n",
    "                \n",
    "                spam_likelihood += math.log(spam_word_prob)\n",
    "                ham_likelihood += math.log(ham_word_prob)\n",
    "            \n",
    "            if spam_likelihood > ham_likelihood:\n",
    "                predictions.append(1)\n",
    "            else:\n",
    "                predictions.append(0)\n",
    "        \n",
    "        return predictions\n",
    "\n",
    "# Train and test the classifier with Unigram model\n",
    "nb_classifier = NaiveBayesClassifier()\n",
    "nb_classifier.fit(X_train, y_train)\n",
    "y_pred = nb_classifier.predict(X_test)\n",
    "\n",
    "# Evaluate the performance\n",
    "accuracy = accuracy_score(y_test, y_pred)\n",
    "precision = precision_score(y_test, y_pred)\n",
    "recall = recall_score(y_test, y_pred)\n",
    "f1 = f1_score(y_test, y_pred)\n",
    "\n",
    "print(f'Accuracy: {accuracy:.4f}')\n",
    "print(f'Precision: {precision:.4f}')\n",
    "print(f'Recall: {recall:.4f}')\n",
    "print(f'F1 Score: {f1:.4f}')\n"
   ]
  },
  {
   "cell_type": "markdown",
   "id": "k8Wji9IdRHNn",
   "metadata": {
    "id": "k8Wji9IdRHNn"
   },
   "source": [
    "#### Training and Testing with Bigram"
   ]
  },
  {
   "cell_type": "code",
   "execution_count": 8,
   "id": "1a6c142a",
   "metadata": {
    "id": "1a6c142a"
   },
   "outputs": [],
   "source": [
    "from sklearn.feature_extraction.text import CountVectorizer"
   ]
  },
  {
   "cell_type": "code",
   "execution_count": 9,
   "id": "df927433",
   "metadata": {
    "id": "df927433"
   },
   "outputs": [
    {
     "name": "stdout",
     "output_type": "stream",
     "text": [
      "Bigram Model - Accuracy: 0.9887\n",
      "Bigram Model - Precision: 0.9663\n",
      "Bigram Model - Recall: 0.9897\n",
      "Bigram Model - F1 Score: 0.9779\n"
     ]
    }
   ],
   "source": [
    "# Train and test the classifier with Bigram model\n",
    "X_train_bigram = vectorizer_bigram.fit_transform(X_train)\n",
    "X_test_bigram = vectorizer_bigram.transform(X_test)\n",
    "\n",
    "nb_classifier_bigram = NaiveBayesClassifier()\n",
    "nb_classifier_bigram.fit(X_train, y_train)\n",
    "y_pred_bigram = nb_classifier_bigram.predict(X_test)\n",
    "\n",
    "# Evaluate the performance for Bigram model\n",
    "accuracy_bigram = accuracy_score(y_test, y_pred_bigram)\n",
    "precision_bigram = precision_score(y_test, y_pred_bigram)\n",
    "recall_bigram = recall_score(y_test, y_pred_bigram)\n",
    "f1_bigram = f1_score(y_test, y_pred_bigram)\n",
    "\n",
    "print(f'Bigram Model - Accuracy: {accuracy_bigram:.4f}')\n",
    "print(f'Bigram Model - Precision: {precision_bigram:.4f}')\n",
    "print(f'Bigram Model - Recall: {recall_bigram:.4f}')\n",
    "print(f'Bigram Model - F1 Score: {f1_bigram:.4f}')\n"
   ]
  },
  {
   "cell_type": "markdown",
   "id": "mbp-E6b7x7Zm",
   "metadata": {
    "id": "mbp-E6b7x7Zm"
   },
   "source": [
    "### 5. Analyzing Word Influence"
   ]
  },
  {
   "cell_type": "markdown",
   "id": "irrMK5z5XMP9",
   "metadata": {
    "id": "irrMK5z5XMP9"
   },
   "source": [
    "* List the 10 words whose presence most strongly predicts that an email is ham.\n",
    "* List the 10 words whose absence most strongly predicts that an email is ham.\n",
    "* List the 10 words whose presence most strongly predicts that an email is spam.\n",
    "* List the 10 words whose absence most strongly predicts that an email is spam.\n",
    "* Explain how these words were obtained in terms of conditional probabilities\n",
    "used in the Naive Bayes algorithm.\n",
    "* Compare the influence of word presence vs absence on predicting spam or ham."
   ]
  },
  {
   "cell_type": "code",
   "execution_count": 10,
   "id": "ir9EQcpWDmo_",
   "metadata": {
    "id": "ir9EQcpWDmo_"
   },
   "outputs": [],
   "source": [
    "from sklearn.feature_extraction.text import TfidfTransformer\n",
    "from sklearn.pipeline import Pipeline\n",
    "from sklearn.feature_extraction.text import TfidfVectorizer\n",
    "from sklearn.feature_extraction.text import CountVectorizer"
   ]
  },
  {
   "cell_type": "code",
   "execution_count": 11,
   "id": "phgGPC8IWYiq",
   "metadata": {
    "id": "phgGPC8IWYiq"
   },
   "outputs": [
    {
     "name": "stdout",
     "output_type": "stream",
     "text": [
      "Top 10 words in training set by TF-IDF score:\n",
      "[('ect', 201.63804296030466), ('enron', 186.9711723862133), ('vince', 157.88236536676942), ('subject', 131.28636303186263), ('hou', 102.03418972702474), ('com', 97.32269865022478), ('2000', 93.10127721140356), ('kaminski', 92.6991777045264), ('pm', 69.72767611444904), ('research', 69.03987801463903)]\n",
      "Comparison of top TF-IDF words with Naive Bayes conditional probabilities (initial):\n",
      "[('ect', 201.63804296030466, 6.22990854494256e-06, 0.007167666485271197), ('enron', 186.9711723862133, 3.11495427247128e-06, 0.008645088376033613), ('vince', 157.88236536676942, 6.22990854494256e-06, 0.005396850149390021), ('subject', 131.28636303186263, 0.00047970295796057717, 0.002690386870719154), ('hou', 102.03418972702474, 2.803458845224152e-05, 0.003499030190690313), ('com', 97.32269865022478, 0.0022521119389967356, 0.0027755918328632324), ('2000', 93.10127721140356, 8.098881108425329e-05, 0.003113196399849203), ('kaminski', 92.6991777045264, 3.11495427247128e-06, 0.002995838621801699), ('pm', 69.72767611444904, 7.164394826683945e-05, 0.0020979712376985337), ('research', 69.03987801463903, 0.00016509257644097783, 0.001687219014532269)]\n"
     ]
    }
   ],
   "source": [
    "# TF-IDF transformation on raw text data\n",
    "tfidf_vectorizer = TfidfVectorizer(stop_words='english')\n",
    "X_train_tfidf = tfidf_vectorizer.fit_transform(X_train)\n",
    "X_test_tfidf = tfidf_vectorizer.transform(X_test)\n",
    "\n",
    "# Get feature names\n",
    "feature_names = tfidf_vectorizer.get_feature_names_out()\n",
    "\n",
    "# Get top 10 words by TF-IDF score for spam and ham\n",
    "def get_top_tfidf_words(tfidf_matrix, feature_names, top_n=10):\n",
    "    tfidf_sum = tfidf_matrix.sum(axis=0).A1\n",
    "    top_indices = tfidf_sum.argsort()[::-1][:top_n]\n",
    "    top_words = [(feature_names[i], tfidf_sum[i]) for i in top_indices]\n",
    "    return top_words\n",
    "\n",
    "# Top words in the training set\n",
    "top_tfidf_words_train = get_top_tfidf_words(X_train_tfidf, feature_names)\n",
    "print(\"Top 10 words in training set by TF-IDF score:\")\n",
    "print(top_tfidf_words_train)\n",
    "\n",
    "# Compare top TF-IDF words with Naive Bayes conditional probabilities\n",
    "def compare_tfidf_naive_bayes(top_tfidf_words, nb_classifier):\n",
    "    comparison = []\n",
    "    for word, score in top_tfidf_words:\n",
    "        if word in nb_classifier.vocab:\n",
    "            spam_prob = (nb_classifier.spam_word_counts[word] + 1) / (nb_classifier.spam_total + nb_classifier.vocab_size)\n",
    "            ham_prob = (nb_classifier.ham_word_counts[word] + 1) / (nb_classifier.ham_total + nb_classifier.vocab_size)\n",
    "            comparison.append((word, score, spam_prob, ham_prob))\n",
    "    return comparison\n",
    "\n",
    "# Comparison for initial and cleaned data\n",
    "comparison_initial = compare_tfidf_naive_bayes(top_tfidf_words_train, nb_classifier)\n",
    "print(\"Comparison of top TF-IDF words with Naive Bayes conditional probabilities (initial):\")\n",
    "print(comparison_initial)"
   ]
  },
  {
   "cell_type": "code",
   "execution_count": 12,
   "id": "18550fd8",
   "metadata": {},
   "outputs": [],
   "source": [
    "#Conditional probabilities used in Naive Bayes are calculated based on the \n",
    "#presence and absence of words in spam and ham emails.\n",
    "#The top predictors are words with the highest conditional \n",
    "#probabilities for spam and ham classes."
   ]
  },
  {
   "cell_type": "markdown",
   "id": "jmXtUlKfxvwf",
   "metadata": {
    "id": "jmXtUlKfxvwf"
   },
   "source": [
    "### 6. Stopword Handling\n",
    "Analyze the effect of stopwords on the model’s interpretation, discussing reasons for removing or keeping them."
   ]
  },
  {
   "cell_type": "markdown",
   "id": "-mg-T9xyp6kf",
   "metadata": {
    "id": "-mg-T9xyp6kf"
   },
   "source": [
    "Data preprocessing is one of the critical steps in any machine learning project. It includes cleaning and formatting the data before feeding into a machine learning algorithm. For NLP, the preprocessing steps are comprised of the following tasks:\n",
    "\n",
    "* Tokenizing the string\n",
    "* Lowercasing\n",
    "* Removing stop words and punctuation\n",
    "* Stemming"
   ]
  },
  {
   "cell_type": "code",
   "execution_count": 13,
   "id": "zsTgb-YRmxJ7",
   "metadata": {
    "id": "zsTgb-YRmxJ7"
   },
   "outputs": [
    {
     "name": "stderr",
     "output_type": "stream",
     "text": [
      "[nltk_data] Downloading package stopwords to\n",
      "[nltk_data]     C:\\Users\\Bora\\AppData\\Roaming\\nltk_data...\n",
      "[nltk_data]   Package stopwords is already up-to-date!\n"
     ]
    },
    {
     "data": {
      "text/plain": [
       "True"
      ]
     },
     "execution_count": 13,
     "metadata": {},
     "output_type": "execute_result"
    }
   ],
   "source": [
    "import re\n",
    "import string\n",
    "import nltk\n",
    "from nltk.corpus import stopwords\n",
    "nltk.download('stopwords')"
   ]
  },
  {
   "cell_type": "code",
   "execution_count": 14,
   "id": "soiW2y0Cp0md",
   "metadata": {
    "id": "soiW2y0Cp0md"
   },
   "outputs": [],
   "source": [
    "def process_mail(mail):\n",
    "    \"\"\"Process mail function.\n",
    "    Input:\n",
    "        mail: a text containing a mail\n",
    "    Output:\n",
    "        mails_clean: a list of words containing the processed mail\n",
    "    \"\"\"\n",
    "    # Tokenizing the string\n",
    "    mail = mail.lower()  # Lowercasing\n",
    "    mail = re.sub(f\"[{string.punctuation}]\", \"\", mail)  # Removing punctuation\n",
    "    words = mail.split()\n",
    "    \n",
    "    # Removing stop words\n",
    "    stop_words = set(stopwords.words('english'))\n",
    "    mails_clean = [word for word in words if word not in stop_words]\n",
    "    \n",
    "    return mails_clean\n",
    "\n",
    "# Process all emails in the dataset\n",
    "data['processed_text'] = data['text'].apply(process_mail)"
   ]
  },
  {
   "cell_type": "markdown",
   "id": "XQihheD8wm_m",
   "metadata": {
    "id": "XQihheD8wm_m"
   },
   "source": [
    "#### Training with Unigram (Stop Words Removed)"
   ]
  },
  {
   "cell_type": "code",
   "execution_count": 15,
   "id": "594a1a80",
   "metadata": {
    "id": "594a1a80"
   },
   "outputs": [
    {
     "name": "stdout",
     "output_type": "stream",
     "text": [
      "Unigram Model (Stop Words Removed) - Accuracy: 0.9913\n",
      "Unigram Model (Stop Words Removed) - Precision: 0.9730\n",
      "Unigram Model (Stop Words Removed) - Recall: 0.9931\n",
      "Unigram Model (Stop Words Removed) - F1 Score: 0.9829\n"
     ]
    }
   ],
   "source": [
    "# Convert processed text back to string for CountVectorizer\n",
    "data['processed_text_str'] = data['processed_text'].apply(lambda x: ' '.join(x))\n",
    "\n",
    "# Split the processed dataset\n",
    "X_train_processed, X_test_processed, y_train_processed, y_test_processed = train_test_split(\n",
    "    data['processed_text_str'], data['spam'], test_size=0.2, random_state=42\n",
    ")\n",
    "\n",
    "# Unigram representation with stopwords removed\n",
    "vectorizer_unigram_stopwords = CountVectorizer(ngram_range=(1, 1))\n",
    "X_train_unigram_stopwords = vectorizer_unigram_stopwords.fit_transform(X_train_processed)\n",
    "X_test_unigram_stopwords = vectorizer_unigram_stopwords.transform(X_test_processed)\n",
    "\n",
    "# Train and test the classifier with Unigram model(StopWords Removed)\n",
    "nb_classifier_unigram_stopwords = NaiveBayesClassifier()\n",
    "nb_classifier_unigram_stopwords.fit(X_train_processed, y_train_processed)\n",
    "y_pred_unigram_stopwords = nb_classifier_unigram_stopwords.predict(X_test_processed)\n",
    "\n",
    "# Evaluate performance\n",
    "accuracy_unigram_stopwords = accuracy_score(y_test_processed, y_pred_unigram_stopwords)\n",
    "precision_unigram_stopwords = precision_score(y_test_processed, y_pred_unigram_stopwords)\n",
    "recall_unigram_stopwords = recall_score(y_test_processed, y_pred_unigram_stopwords)\n",
    "f1_unigram_stopwords = f1_score(y_test_processed, y_pred_unigram_stopwords)\n",
    "\n",
    "print(f'Unigram Model (Stop Words Removed) - Accuracy: {accuracy_unigram_stopwords:.4f}')\n",
    "print(f'Unigram Model (Stop Words Removed) - Precision: {precision_unigram_stopwords:.4f}')\n",
    "print(f'Unigram Model (Stop Words Removed) - Recall: {recall_unigram_stopwords:.4f}')\n",
    "print(f'Unigram Model (Stop Words Removed) - F1 Score: {f1_unigram_stopwords:.4f}')\n"
   ]
  },
  {
   "cell_type": "markdown",
   "id": "01-nb1rEkuq0",
   "metadata": {
    "id": "01-nb1rEkuq0"
   },
   "source": [
    "#### Training and Testing with Bigram (Stop Words Removed)"
   ]
  },
  {
   "cell_type": "code",
   "execution_count": 16,
   "id": "2b6df052",
   "metadata": {
    "id": "2b6df052"
   },
   "outputs": [],
   "source": [
    "from sklearn.feature_extraction.text import CountVectorizer"
   ]
  },
  {
   "cell_type": "code",
   "execution_count": 17,
   "id": "a1fcddf6",
   "metadata": {
    "id": "a1fcddf6"
   },
   "outputs": [
    {
     "name": "stdout",
     "output_type": "stream",
     "text": [
      "Bigram Model (Stop Words Removed) - Accuracy: 0.9913\n",
      "Bigram Model (Stop Words Removed) - Precision: 0.9730\n",
      "Bigram Model (Stop Words Removed) - Recall: 0.9931\n",
      "Bigram Model (Stop Words Removed) - F1 Score: 0.9829\n"
     ]
    }
   ],
   "source": [
    "# Bigram representation with stopwords removed\n",
    "vectorizer_bigram_stopwords = CountVectorizer(ngram_range=(1, 2))\n",
    "X_train_bigram_stopwords = vectorizer_bigram_stopwords.fit_transform(X_train_processed)\n",
    "X_test_bigram_stopwords = vectorizer_bigram_stopwords.transform(X_test_processed)\n",
    "\n",
    "# Train and test the classifier with Bigram model (StopWords Removed)\n",
    "nb_classifier_bigram_stopwords = NaiveBayesClassifier()\n",
    "nb_classifier_bigram_stopwords.fit(X_train_processed, y_train_processed)\n",
    "y_pred_bigram_stopwords = nb_classifier_bigram_stopwords.predict(X_test_processed)\n",
    "\n",
    "# Evaluate the performance\n",
    "accuracy_bigram_stopwords = accuracy_score(y_test_processed, y_pred_bigram_stopwords)\n",
    "precision_bigram_stopwords = precision_score(y_test_processed, y_pred_bigram_stopwords)\n",
    "recall_bigram_stopwords = recall_score(y_test_processed, y_pred_bigram_stopwords)\n",
    "f1_bigram_stopwords = f1_score(y_test_processed, y_pred_bigram_stopwords)\n",
    "\n",
    "print(f'Bigram Model (Stop Words Removed) - Accuracy: {accuracy_bigram_stopwords:.4f}')\n",
    "print(f'Bigram Model (Stop Words Removed) - Precision: {precision_bigram_stopwords:.4f}')\n",
    "print(f'Bigram Model (Stop Words Removed) - Recall: {recall_bigram_stopwords:.4f}')\n",
    "print(f'Bigram Model (Stop Words Removed) - F1 Score: {f1_bigram_stopwords:.4f}')"
   ]
  },
  {
   "cell_type": "markdown",
   "id": "UKbw8pJhOARp",
   "metadata": {
    "id": "UKbw8pJhOARp"
   },
   "source": [
    "#### Analyzing the Stopwords"
   ]
  },
  {
   "cell_type": "markdown",
   "id": "4aed98cd",
   "metadata": {
    "id": "4aed98cd"
   },
   "source": [
    "* Identify and handle common stopwords.\n",
    "* List the 10 non-stopwords that most strongly predict that an email is ham.\n",
    "* List the 10 non-stopwords that most strongly predict that an email is spam."
   ]
  },
  {
   "cell_type": "code",
   "execution_count": 18,
   "id": "d6f95bed",
   "metadata": {
    "id": "d6f95bed"
   },
   "outputs": [
    {
     "name": "stdout",
     "output_type": "stream",
     "text": [
      "Top 10 non-stopwords predicting spam:\n",
      " [('subject', 0.007186942166116368), ('1', 0.00447433818296368), ('com', 0.004217661677030953), ('company', 0.003780144905554713), ('email', 0.003739310006883597), ('business', 0.0035701368552461176), ('e', 0.0035001341718099194), ('information', 0.003383463032749589), ('5', 0.003319293906266407), ('money', 0.0030509502864276465)]\n",
      "Top 10 non-stopwords predicting ham:\n",
      " [('enron', 0.0178354659608764), ('ect', 0.014787433749245455), ('subject', 0.011361299609294674), ('vince', 0.011134106783944598), ('hou', 0.00721876181568526), ('2000', 0.006422757756064556), ('kaminski', 0.006180639854596592), ('please', 0.005873846623284445), ('com', 0.00572625420389644), ('would', 0.005499061378546364)]\n"
     ]
    }
   ],
   "source": [
    "# Identify and handle common stopwords\n",
    "common_stopwords = set(stopwords.words('english'))\n",
    "\n",
    "# Function to find the top non-stopwords predictors\n",
    "def top_non_stopword_predictors(nb_classifier, n=10):\n",
    "    non_stopwords_spam_prob = {}\n",
    "    non_stopwords_ham_prob = {}\n",
    "    \n",
    "    for word in nb_classifier.vocab:\n",
    "        if word not in common_stopwords:\n",
    "            spam_prob = (nb_classifier.spam_word_counts[word] + 1) / (nb_classifier.spam_total + nb_classifier.vocab_size)\n",
    "            ham_prob = (nb_classifier.ham_word_counts[word] + 1) / (nb_classifier.ham_total + nb_classifier.vocab_size)\n",
    "            non_stopwords_spam_prob[word] = spam_prob\n",
    "            non_stopwords_ham_prob[word] = ham_prob\n",
    "    \n",
    "    # Sorting the words by their probabilities\n",
    "    sorted_non_stopwords_spam = sorted(non_stopwords_spam_prob.items(), key=lambda item: item[1], reverse=True)\n",
    "    sorted_non_stopwords_ham = sorted(non_stopwords_ham_prob.items(), key=lambda item: item[1], reverse=True)\n",
    "    \n",
    "    return sorted_non_stopwords_spam[:n], sorted_non_stopwords_ham[:n]\n",
    "\n",
    "top_non_stopwords_spam, top_non_stopwords_ham = top_non_stopword_predictors(nb_classifier_unigram_stopwords)\n",
    "\n",
    "print(\"Top 10 non-stopwords predicting spam:\\n\", top_non_stopwords_spam)\n",
    "print(\"Top 10 non-stopwords predicting ham:\\n\", top_non_stopwords_ham)\n"
   ]
  },
  {
   "cell_type": "code",
   "execution_count": 19,
   "id": "4480e048",
   "metadata": {},
   "outputs": [
    {
     "name": "stdout",
     "output_type": "stream",
     "text": [
      "Unigram Model - Accuracy: 0.9887\n",
      "Unigram Model - Precision: 0.9663\n",
      "Unigram Model - Recall: 0.9897\n",
      "Unigram Model - F1 Score: 0.9779\n",
      "Bigram Model - Accuracy: 0.9887\n",
      "Bigram Model - Precision: 0.9663\n",
      "Bigram Model - Recall: 0.9897\n",
      "Bigram Model - F1 Score: 0.9779\n",
      "Unigram Model (Stop Words Removed) - Accuracy: 0.9913\n",
      "Unigram Model (Stop Words Removed) - Precision: 0.9730\n",
      "Unigram Model (Stop Words Removed) - Recall: 0.9931\n",
      "Unigram Model (Stop Words Removed) - F1 Score: 0.9829\n",
      "Bigram Model (Stop Words Removed) - Accuracy: 0.9913\n",
      "Bigram Model (Stop Words Removed) - Precision: 0.9730\n",
      "Bigram Model (Stop Words Removed) - Recall: 0.9931\n",
      "Bigram Model (Stop Words Removed) - F1 Score: 0.9829\n"
     ]
    }
   ],
   "source": [
    "# Compute performance metrics\n",
    "def compute_metrics(y_true, y_pred):\n",
    "    accuracy = accuracy_score(y_true, y_pred)\n",
    "    precision = precision_score(y_true, y_pred)\n",
    "    recall = recall_score(y_true, y_pred)\n",
    "    f1 = f1_score(y_true, y_pred)\n",
    "    return accuracy, precision, recall, f1\n",
    "\n",
    "# Compute metrics for Unigram model\n",
    "accuracy, precision, recall, f1 = compute_metrics(y_test, y_pred)\n",
    "print(f'Unigram Model - Accuracy: {accuracy:.4f}')\n",
    "print(f'Unigram Model - Precision: {precision:.4f}')\n",
    "print(f'Unigram Model - Recall: {recall:.4f}')\n",
    "print(f'Unigram Model - F1 Score: {f1:.4f}')\n",
    "\n",
    "# Compute metrics for Bigram model\n",
    "accuracy_bigram, precision_bigram, recall_bigram, f1_bigram = compute_metrics(y_test, y_pred_bigram)\n",
    "print(f'Bigram Model - Accuracy: {accuracy_bigram:.4f}')\n",
    "print(f'Bigram Model - Precision: {precision_bigram:.4f}')\n",
    "print(f'Bigram Model - Recall: {recall_bigram:.4f}')\n",
    "print(f'Bigram Model - F1 Score: {f1_bigram:.4f}')\n",
    "\n",
    "# Compute metrics for Stopwords Removed model\n",
    "accuracy_unigram_stopwords, precision_unigram_stopwords, recall_unigram_stopwords, f1_unigram_stopwords = compute_metrics(y_test_processed, y_pred_unigram_stopwords)\n",
    "print(f'Unigram Model (Stop Words Removed) - Accuracy: {accuracy_unigram_stopwords:.4f}')\n",
    "print(f'Unigram Model (Stop Words Removed) - Precision: {precision_unigram_stopwords:.4f}')\n",
    "print(f'Unigram Model (Stop Words Removed) - Recall: {recall_unigram_stopwords:.4f}')\n",
    "print(f'Unigram Model (Stop Words Removed) - F1 Score: {f1_unigram_stopwords:.4f}')\n",
    "\n",
    "accuracy_bigram_stopwords, precision_bigram_stopwords, recall_bigram_stopwords, f1_bigram_stopwords = compute_metrics(y_test_processed, y_pred_bigram_stopwords)\n",
    "print(f'Bigram Model (Stop Words Removed) - Accuracy: {accuracy_bigram_stopwords:.4f}')\n",
    "print(f'Bigram Model (Stop Words Removed) - Precision: {precision_bigram_stopwords:.4f}')\n",
    "print(f'Bigram Model (Stop Words Removed) - Recall: {recall_bigram_stopwords:.4f}')\n",
    "print(f'Bigram Model (Stop Words Removed) - F1 Score: {f1_bigram_stopwords:.4f}')\n",
    "\n"
   ]
  },
  {
   "cell_type": "code",
   "execution_count": 20,
   "id": "3b7a75ff",
   "metadata": {},
   "outputs": [
    {
     "ename": "SyntaxError",
     "evalue": "invalid syntax (1910815571.py, line 2)",
     "output_type": "error",
     "traceback": [
      "\u001b[1;36m  Cell \u001b[1;32mIn[20], line 2\u001b[1;36m\u001b[0m\n\u001b[1;33m    Based on the analysis and the outputs obtained from the Naive Bayes classifier, the following observations can be made:\u001b[0m\n\u001b[1;37m          ^\u001b[0m\n\u001b[1;31mSyntaxError\u001b[0m\u001b[1;31m:\u001b[0m invalid syntax\n"
     ]
    }
   ],
   "source": [
    "### 7. Results And Discussion\n",
    "Based on the analysis and the outputs obtained from the Naive Bayes classifier, the following observations can be made:\n",
    "\n",
    "##Word Frequencies:\n",
    "The initial analysis of word frequencies shows that certain words such as punctuation marks and common words appear very frequently. This is expected as they are common across most texts.\n",
    "\n",
    "##Top Predictive Words:\n",
    "The top predictive words identified include common words and punctuation marks. However, as noted, punctuation marks might not be the best indicators of spam or ham.\n",
    "For spam emails, words like \"subject\", \"1\", \"com\" were found to be highly indicative.\n",
    "For ham emails, words like \"enron\", \"ect\", \"vince\" were found to be highly indicative.\n",
    "\n",
    "##TF-IDF Analysis:\n",
    "The TF-IDF analysis showed that certain words have high importance scores. These words were compared with Naive Bayes conditional probabilities to understand their influence.\n",
    "Words with high TF-IDF scores such as \"subject\", \"enron\", \"ect\" also had high conditional probabilities in the Naive Bayes model, indicating a strong relationship.\n",
    "\n",
    "##Impact of Stopwords:\n",
    "Removing stopwords improved the performance of both Unigram and Bigram models. This highlights the importance of text preprocessing steps in text classification tasks.\n",
    "The accuracy, precision, recall, and F1 scores all showed improvement when stopwords were removed.\n",
    "\n",
    "##Performance Metrics:\n",
    "The performance metrics for the Unigram, Bigram, and stopword removed models show that the Naive Bayes classifier performed well in categorizing emails as spam or ham.\n",
    "The Unigram model with stopwords removed achieved the highest performance with an accuracy of 0.9913, precision of 0.9730, recall of 0.9931, and F1 score of 0.9829."
   ]
  },
  {
   "cell_type": "code",
   "execution_count": null,
   "id": "f6c52d1d",
   "metadata": {},
   "outputs": [],
   "source": [
    "### 8. Conclusion\n",
    "Overall, the Naive Bayes classifier demonstrated strong performance in email spam detection.\n",
    "The preprocessing steps such as removing stopwords significantly improved the models performance. \n",
    "The analysis of word influence using TF-IDF and conditional probabilities provided valuable insights \n",
    "into the effectiveness of specific words in predicting spam and ham emails. By combining both statistical methods,\n",
    "we achieved an efficient and accurate spam detection model."
   ]
  },
  {
   "cell_type": "code",
   "execution_count": null,
   "id": "78900eb1",
   "metadata": {},
   "outputs": [],
   "source": []
  }
 ],
 "metadata": {
  "colab": {
   "collapsed_sections": [
    "NoBnqawf6aj3",
    "_AGeFB1k6FA5",
    "0g05fTF-O72H",
    "nr8JJ9lb7Q_H",
    "-nASDnRjz8kT",
    "dM6X55to0Fuz",
    "k8Wji9IdRHNn",
    "mbp-E6b7x7Zm",
    "jmXtUlKfxvwf",
    "XQihheD8wm_m",
    "n9U6h4ggn9iR",
    "UKbw8pJhOARp"
   ],
   "provenance": []
  },
  "kernelspec": {
   "display_name": "Python 3 (ipykernel)",
   "language": "python",
   "name": "python3"
  },
  "language_info": {
   "codemirror_mode": {
    "name": "ipython",
    "version": 3
   },
   "file_extension": ".py",
   "mimetype": "text/x-python",
   "name": "python",
   "nbconvert_exporter": "python",
   "pygments_lexer": "ipython3",
   "version": "3.10.4"
  }
 },
 "nbformat": 4,
 "nbformat_minor": 5
}
